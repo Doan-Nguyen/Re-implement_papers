{
 "cells": [
  {
   "cell_type": "markdown",
   "metadata": {},
   "source": [
    "## Implement batch norm in pytorch "
   ]
  },
  {
   "cell_type": "code",
   "execution_count": 2,
   "metadata": {},
   "outputs": [],
   "source": [
    "import numpy as np \n",
    "import torch.nn as nn\n",
    "from torch.nn import Parameter"
   ]
  },
  {
   "cell_type": "code",
   "execution_count": 3,
   "metadata": {},
   "outputs": [
    {
     "output_type": "error",
     "ename": "SyntaxError",
     "evalue": "unexpected EOF while parsing (<ipython-input-3-f92aec791b93>, line 21)",
     "traceback": [
      "\u001b[0;36m  File \u001b[0;32m\"<ipython-input-3-f92aec791b93>\"\u001b[0;36m, line \u001b[0;32m21\u001b[0m\n\u001b[0;31m    \u001b[0m\n\u001b[0m    ^\u001b[0m\n\u001b[0;31mSyntaxError\u001b[0m\u001b[0;31m:\u001b[0m unexpected EOF while parsing\n"
     ]
    }
   ],
   "source": [
    "class BatchNorm(nn.Module):\n",
    "    def __init__(self, number_features, eps=1e-5, momentum=0.1):\n",
    "        \"\"\" mean 0 and a standard deviation of 1\n",
    "        Parameters:\n",
    "            - gamma: \n",
    "        \"\"\"\n",
    "\n",
    "        super(BatchNorm, self).__init__()\n",
    "\n",
    "        self.gamma = Parameter(torch.Tensor(number_features))\n",
    "        self.beta = Parameter(torch.Tensor(number_features))\n",
    "        self.register_buffer(\"moving_mean\", torch.zeros(number_features))\n",
    "        self.register_buffer(\"moving_var\", torch.ones(number_features))\n",
    "        self.register_buffer(\"eps\", torch.tensor(eps))\n",
    "        self.register_buffer(\"momentum\", torch.tensor(momentum))\n",
    "\n",
    "        self._reset()\n",
    "\n",
    "    def _reset(self):\n",
    "\n",
    "\n"
   ]
  },
  {
   "cell_type": "markdown",
   "metadata": {},
   "source": [
    "## 1.5 Kaiming initialization"
   ]
  },
  {
   "cell_type": "markdown",
   "metadata": {},
   "source": [
    "### Why kaiming work ?"
   ]
  },
  {
   "cell_type": "code",
   "execution_count": 4,
   "metadata": {},
   "outputs": [
    {
     "output_type": "error",
     "ename": "NameError",
     "evalue": "name 'x_valid' is not defined",
     "traceback": [
      "\u001b[0;31m---------------------------------------------------------------------------\u001b[0m",
      "\u001b[0;31mNameError\u001b[0m                                 Traceback (most recent call last)",
      "\u001b[0;32m<ipython-input-4-599d5b25f0da>\u001b[0m in \u001b[0;36m<module>\u001b[0;34m\u001b[0m\n\u001b[1;32m     18\u001b[0m     \u001b[0;31m# return F.relu(x.mm(w1))\u001b[0m\u001b[0;34m\u001b[0m\u001b[0;34m\u001b[0m\u001b[0;34m\u001b[0m\u001b[0m\n\u001b[1;32m     19\u001b[0m \u001b[0;34m\u001b[0m\u001b[0m\n\u001b[0;32m---> 20\u001b[0;31m \u001b[0mt1\u001b[0m \u001b[0;34m=\u001b[0m \u001b[0mrelu\u001b[0m\u001b[0;34m(\u001b[0m\u001b[0mlinear\u001b[0m\u001b[0;34m(\u001b[0m\u001b[0mx_valid\u001b[0m\u001b[0;34m,\u001b[0m \u001b[0mw1\u001b[0m\u001b[0;34m,\u001b[0m \u001b[0mb1\u001b[0m\u001b[0;34m)\u001b[0m\u001b[0;34m)\u001b[0m\u001b[0;34m\u001b[0m\u001b[0;34m\u001b[0m\u001b[0m\n\u001b[0m\u001b[1;32m     21\u001b[0m \u001b[0mt2\u001b[0m \u001b[0;34m=\u001b[0m \u001b[0mrelu\u001b[0m\u001b[0;34m(\u001b[0m\u001b[0mlinear\u001b[0m\u001b[0;34m(\u001b[0m\u001b[0mt1\u001b[0m\u001b[0;34m,\u001b[0m \u001b[0mw2\u001b[0m\u001b[0;34m,\u001b[0m \u001b[0mb2\u001b[0m\u001b[0;34m)\u001b[0m\u001b[0;34m)\u001b[0m\u001b[0;34m\u001b[0m\u001b[0;34m\u001b[0m\u001b[0m\n\u001b[1;32m     22\u001b[0m \u001b[0mt3\u001b[0m \u001b[0;34m=\u001b[0m \u001b[0mrelu\u001b[0m\u001b[0;34m(\u001b[0m\u001b[0mlinear\u001b[0m\u001b[0;34m(\u001b[0m\u001b[0mt2\u001b[0m\u001b[0;34m,\u001b[0m \u001b[0mw3\u001b[0m\u001b[0;34m,\u001b[0m \u001b[0mb3\u001b[0m\u001b[0;34m)\u001b[0m\u001b[0;34m)\u001b[0m\u001b[0;34m\u001b[0m\u001b[0;34m\u001b[0m\u001b[0m\n",
      "\u001b[0;31mNameError\u001b[0m: name 'x_valid' is not defined"
     ]
    }
   ],
   "source": [
    "import torch \n",
    "import torch.nn.functional as F\n",
    "\n",
    "## random weight init\n",
    "w1 = torch.randn(784, 50)\n",
    "b1 = torch.randn(50)\n",
    "w2 = torch.randn(50, 10)\n",
    "b2 = torch.randn(10) \n",
    "w3 = torch.randn(10, 1)\n",
    "b3 = torch.randn(1)\n",
    "\n",
    "def linear(x, w, b):\n",
    "    return x*w + b\n",
    "\n",
    "def relu(x):\n",
    "    ## clamp(min=0) ~ exactly relu\n",
    "    return x.clamp(min=0.)\n",
    "    # return F.relu(x.mm(w1))\n",
    "\n",
    "t1 = relu(linear(x_valid, w1, b1))\n",
    "t2 = relu(linear(t1, w2, b2))\n",
    "t3 = relu(linear(t2, w3, b3))\n",
    "\n",
    "print(t1.mean(), t1.std())\n",
    "print(t2.mean(), t2.std())\n",
    "print(t3.mean(), t3.std())\n",
    "\n"
   ]
  },
  {
   "cell_type": "markdown",
   "metadata": {},
   "source": [
    "## 1.6 nn.interpolate()\n"
   ]
  },
  {
   "cell_type": "code",
   "execution_count": 10,
   "metadata": {
    "tags": []
   },
   "outputs": [
    {
     "output_type": "stream",
     "name": "stdout",
     "text": "tensor([[[[1., 2.],\n          [3., 4.]]]])\ntensor([[[[1.0000, 1.3333, 1.6667, 2.0000],\n          [1.6667, 2.0000, 2.3333, 2.6667],\n          [2.3333, 2.6667, 3.0000, 3.3333],\n          [3.0000, 3.3333, 3.6667, 4.0000]]]])\n"
    }
   ],
   "source": [
    "import torch \n",
    "\n",
    "\"\"\"\n",
    "view() : define format of matrix\n",
    "\"\"\"\n",
    "input = torch.arange(1, 5, dtype=torch.float32).view(1, 1, 2, 2)\n",
    "print(input)\n",
    "m = nn.UpsamplingBilinear2d(scale_factor=2)\n",
    "print(m(input))\n"
   ]
  },
  {
   "cell_type": "markdown",
   "metadata": {},
   "source": [
    "### Bilinear\n",
    "```\n",
    "torch.nn.Bilinear(\n",
    "                in1_features: int, # size of each first input sample\n",
    "                in2_features: int, # size of each second input sample\n",
    "                out_features: int, # size of each output sample\n",
    "                bias: bool = True)  # the layer will add a bias\n",
    "```"
   ]
  },
  {
   "cell_type": "code",
   "execution_count": 11,
   "metadata": {
    "tags": []
   },
   "outputs": [
    {
     "output_type": "stream",
     "name": "stdout",
     "text": "torch.Size([128, 40])\n"
    }
   ],
   "source": [
    "m = nn.Bilinear(20, 30, 40)\n",
    "input1 = torch.randn(128, 20)\n",
    "input2 = torch.randn(128, 30)\n",
    "output1 = m(input1, input2)\n",
    "print(output1.size())"
   ]
  },
  {
   "cell_type": "code",
   "execution_count": null,
   "metadata": {},
   "outputs": [],
   "source": []
  }
 ],
 "metadata": {
  "language_info": {
   "codemirror_mode": {
    "name": "ipython",
    "version": 3
   },
   "file_extension": ".py",
   "mimetype": "text/x-python",
   "name": "python",
   "nbconvert_exporter": "python",
   "pygments_lexer": "ipython3",
   "version": 3
  },
  "orig_nbformat": 2,
  "kernelspec": {
   "name": "python_defaultSpec_1595301832529",
   "display_name": "Python 3.7.5 64-bit ('gpu_env': conda)"
  }
 },
 "nbformat": 4,
 "nbformat_minor": 2
}