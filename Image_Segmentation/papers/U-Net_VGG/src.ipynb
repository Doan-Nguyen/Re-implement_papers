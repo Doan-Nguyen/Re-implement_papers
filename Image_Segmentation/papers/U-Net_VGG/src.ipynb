{
 "metadata": {
  "language_info": {
   "codemirror_mode": {
    "name": "ipython",
    "version": 3
   },
   "file_extension": ".py",
   "mimetype": "text/x-python",
   "name": "python",
   "nbconvert_exporter": "python",
   "pygments_lexer": "ipython3",
   "version": "3.7.5-final"
  },
  "orig_nbformat": 2,
  "kernelspec": {
   "name": "Python 3.7.5 64-bit ('gpu_env': conda)",
   "display_name": "Python 3.7.5 64-bit ('gpu_env': conda)",
   "metadata": {
    "interpreter": {
     "hash": "ddbc7ccf8dfdbefc9832c98da3474edf55bdc13ca88983ebf43e5af58d739f59"
    }
   }
  }
 },
 "nbformat": 4,
 "nbformat_minor": 2,
 "cells": [
  {
   "cell_type": "code",
   "execution_count": 1,
   "metadata": {
    "tags": []
   },
   "outputs": [
    {
     "output_type": "stream",
     "name": "stderr",
     "text": "Using TensorFlow backend.\n[[1 2]\n [3 4]]\nWARNING:tensorflow:From /home/doannn/anaconda3/envs/gpu_env/lib/python3.7/site-packages/keras/backend/tensorflow_backend.py:74: The name tf.get_default_graph is deprecated. Please use tf.compat.v1.get_default_graph instead.\n\nWARNING:tensorflow:From /home/doannn/anaconda3/envs/gpu_env/lib/python3.7/site-packages/keras/backend/tensorflow_backend.py:517: The name tf.placeholder is deprecated. Please use tf.compat.v1.placeholder instead.\n\nWARNING:tensorflow:From /home/doannn/anaconda3/envs/gpu_env/lib/python3.7/site-packages/keras/backend/tensorflow_backend.py:2018: The name tf.image.resize_nearest_neighbor is deprecated. Please use tf.compat.v1.image.resize_nearest_neighbor instead.\n\n_________________________________________________________________\nLayer (type)                 Output Shape              Param #   \n=================================================================\nup_sampling2d_1 (UpSampling2 (None, 4, 4, 1)           0         \n=================================================================\nTotal params: 0\nTrainable params: 0\nNon-trainable params: 0\n_________________________________________________________________\nWARNING:tensorflow:From /home/doannn/anaconda3/envs/gpu_env/lib/python3.7/site-packages/keras/backend/tensorflow_backend.py:2741: The name tf.Session is deprecated. Please use tf.compat.v1.Session instead.\n\nWARNING:tensorflow:From /home/doannn/anaconda3/envs/gpu_env/lib/python3.7/site-packages/keras/backend/tensorflow_backend.py:174: The name tf.get_default_session is deprecated. Please use tf.compat.v1.get_default_session instead.\n\nWARNING:tensorflow:From /home/doannn/anaconda3/envs/gpu_env/lib/python3.7/site-packages/keras/backend/tensorflow_backend.py:181: The name tf.ConfigProto is deprecated. Please use tf.compat.v1.ConfigProto instead.\n\n[[1. 1. 2. 2.]\n [1. 1. 2. 2.]\n [3. 3. 4. 4.]\n [3. 3. 4. 4.]]\n"
    }
   ],
   "source": [
    "from numpy import asarray\n",
    "from keras.models import Sequential\n",
    "from keras.layers import UpSampling2D\n",
    "\n",
    "### define input data\n",
    "X = asarray([[1, 2],\n",
    "            [3, 4]])\n",
    "print(X)\n",
    "### reshape input data \n",
    "X = X.reshape((1, 2, 2, 1))\n",
    "# print(X)\n",
    "model = Sequential()\n",
    "model.add(UpSampling2D(input_shape=(2, 2, 1)))\n",
    "model.summary()\n",
    "# make a prediction with the model\n",
    "yhat = model.predict(X)\n",
    "# reshape output to remove channel to make printing easier\n",
    "yhat = yhat.reshape((4, 4))\n",
    "# summarize output\n",
    "print(yhat)"
   ]
  },
  {
   "cell_type": "markdown",
   "metadata": {},
   "source": [
    "## Upsampling\n"
   ]
  },
  {
   "cell_type": "code",
   "execution_count": 5,
   "metadata": {
    "tags": []
   },
   "outputs": [
    {
     "output_type": "stream",
     "name": "stdout",
     "text": "x \n [[[[1]\n   [2]]\n\n  [[3]\n   [4]]]]\n&lt;class &#39;tensorflow.python.framework.ops.Tensor&#39;&gt;\ny: \n Tensor(&quot;up_sampling2d_2/ResizeNearestNeighbor:0&quot;, shape=(1, 4, 4, 1), dtype=int64)\n"
    }
   ],
   "source": [
    "import tensorflow as tf\n",
    "import numpy as np\n",
    "\n",
    "input_shape = (1, 2, 2, 1) # batch, height, width, channels\n",
    "x = np.arange(1, 5, 1).reshape(input_shape)\n",
    "print('x \\n', x)\n",
    "upLayer = tf.keras.layers.UpSampling2D(size=(2, 2))\n",
    "y = upLayer(x)\n",
    "print('y: \\n', y)"
   ]
  },
  {
   "cell_type": "markdown",
   "metadata": {},
   "source": [
    "## Bilinear"
   ]
  },
  {
   "cell_type": "code",
   "execution_count": 3,
   "metadata": {
    "tags": []
   },
   "outputs": [
    {
     "output_type": "stream",
     "name": "stdout",
     "text": "x \n [[[[1]\n   [2]]\n\n  [[3]\n   [4]]]]\ny: \n Tensor(&quot;up_sampling2d_1_1/ResizeBilinear:0&quot;, shape=(1, 4, 4, 1), dtype=float32)\n"
    }
   ],
   "source": [
    "import tensorflow as tf\n",
    "import numpy as np\n",
    "\n",
    "input_shape = (1, 2, 2, 1) # batch, height, width, channels\n",
    "x = np.arange(1, 5, 1).reshape(input_shape)\n",
    "print('x \\n', x)\n",
    "upLayer = tf.keras.layers.UpSampling2D(size=(2, 2), interpolation='bilinear')\n",
    "y = upLayer(x)\n",
    "print('y: \\n', y)"
   ]
  },
  {
   "cell_type": "code",
   "execution_count": null,
   "metadata": {},
   "outputs": [],
   "source": []
  }
 ]
}