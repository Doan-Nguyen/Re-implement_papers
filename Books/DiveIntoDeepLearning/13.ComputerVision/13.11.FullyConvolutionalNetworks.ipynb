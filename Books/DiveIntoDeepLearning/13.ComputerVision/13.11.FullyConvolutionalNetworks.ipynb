{
 "metadata": {
  "language_info": {
   "codemirror_mode": {
    "name": "ipython",
    "version": 3
   },
   "file_extension": ".py",
   "mimetype": "text/x-python",
   "name": "python",
   "nbconvert_exporter": "python",
   "pygments_lexer": "ipython3",
   "version": 3
  },
  "orig_nbformat": 2
 },
 "nbformat": 4,
 "nbformat_minor": 2,
 "cells": [
  {
   "cell_type": "markdown",
   "metadata": {},
   "source": [
    "# Fully Convolutional Network \n",
    "\n",
    "+ Mạng FCN chuyển đổi kích thước (chiều rộng & chiều dài) của các lớp trung gian của lớp đặc trưng bằng với kích thước ảnh đầu vào thông qua lớp *transposed convolution*. Điều này dẫn đến, các điểm pixel dự đoán tương đương với các điểm pixel của ảnh đầu vào. "
   ]
  },
  {
   "cell_type": "code",
   "execution_count": null,
   "metadata": {},
   "outputs": [],
   "source": []
  }
 ]
}